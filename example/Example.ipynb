{
 "cells": [
  {
   "cell_type": "markdown",
   "id": "weird-reform",
   "metadata": {},
   "source": [
    "# Basic commands"
   ]
  },
  {
   "cell_type": "code",
   "execution_count": 1,
   "id": "removed-hungary",
   "metadata": {
    "ExecuteTime": {
     "end_time": "2021-05-20T13:30:39.278949Z",
     "start_time": "2021-05-20T13:30:39.102439Z"
    }
   },
   "outputs": [],
   "source": [
    "import PySchott"
   ]
  },
  {
   "cell_type": "code",
   "execution_count": 11,
   "id": "dated-framework",
   "metadata": {
    "ExecuteTime": {
     "end_time": "2021-05-20T13:21:40.003932Z",
     "start_time": "2021-05-20T13:21:39.753408Z"
    },
    "scrolled": true
   },
   "outputs": [
    {
     "name": "stdout",
     "output_type": "stream",
     "text": [
      "product SCHOTT Microscopy Light Source (MC-LS)\n",
      "connected\n"
     ]
    }
   ],
   "source": [
    "light = PySchott.MCLS_Light(verbose = False)"
   ]
  },
  {
   "cell_type": "code",
   "execution_count": 12,
   "id": "interior-bridal",
   "metadata": {
    "ExecuteTime": {
     "end_time": "2021-05-20T13:21:40.787070Z",
     "start_time": "2021-05-20T13:21:40.660777Z"
    }
   },
   "outputs": [
    {
     "data": {
      "text/plain": [
       "'SCHOTT Microscopy Light Source (MC-LS)'"
      ]
     },
     "execution_count": 12,
     "metadata": {},
     "output_type": "execute_result"
    }
   ],
   "source": [
    "light.product_name"
   ]
  },
  {
   "cell_type": "code",
   "execution_count": 3,
   "id": "social-probe",
   "metadata": {
    "ExecuteTime": {
     "end_time": "2021-05-20T13:19:51.109068Z",
     "start_time": "2021-05-20T13:19:50.977237Z"
    }
   },
   "outputs": [],
   "source": [
    "light.set_on()"
   ]
  },
  {
   "cell_type": "code",
   "execution_count": 4,
   "id": "dynamic-secondary",
   "metadata": {
    "ExecuteTime": {
     "end_time": "2021-05-20T13:20:15.208535Z",
     "start_time": "2021-05-20T13:20:15.062770Z"
    },
    "scrolled": true
   },
   "outputs": [
    {
     "data": {
      "text/plain": [
       "0.65"
      ]
     },
     "execution_count": 4,
     "metadata": {},
     "output_type": "execute_result"
    }
   ],
   "source": [
    "light.intensity"
   ]
  },
  {
   "cell_type": "code",
   "execution_count": 5,
   "id": "combined-catalyst",
   "metadata": {
    "ExecuteTime": {
     "end_time": "2021-05-20T13:20:29.940504Z",
     "start_time": "2021-05-20T13:20:29.816103Z"
    }
   },
   "outputs": [
    {
     "data": {
      "text/plain": [
       "0.6560820713238886"
      ]
     },
     "execution_count": 5,
     "metadata": {},
     "output_type": "execute_result"
    }
   ],
   "source": [
    "light.precise_intensity"
   ]
  },
  {
   "cell_type": "code",
   "execution_count": 6,
   "id": "accessory-spice",
   "metadata": {
    "ExecuteTime": {
     "end_time": "2021-05-20T13:20:38.055909Z",
     "start_time": "2021-05-20T13:20:38.049372Z"
    }
   },
   "outputs": [],
   "source": [
    "light.set_intensity(0.5)"
   ]
  },
  {
   "cell_type": "code",
   "execution_count": 7,
   "id": "standard-buffalo",
   "metadata": {
    "ExecuteTime": {
     "end_time": "2021-05-20T13:20:53.853005Z",
     "start_time": "2021-05-20T13:20:53.730585Z"
    }
   },
   "outputs": [],
   "source": [
    "light.set_off()"
   ]
  },
  {
   "cell_type": "code",
   "execution_count": 8,
   "id": "centered-tracker",
   "metadata": {
    "ExecuteTime": {
     "end_time": "2021-05-20T13:21:05.753997Z",
     "start_time": "2021-05-20T13:21:05.739121Z"
    }
   },
   "outputs": [],
   "source": [
    "light.ser.close()"
   ]
  },
  {
   "cell_type": "code",
   "execution_count": 9,
   "id": "egyptian-spirit",
   "metadata": {
    "ExecuteTime": {
     "end_time": "2021-05-20T13:21:09.654093Z",
     "start_time": "2021-05-20T13:21:09.646347Z"
    },
    "scrolled": true
   },
   "outputs": [
    {
     "name": "stdout",
     "output_type": "stream",
     "text": [
      "serial connection off\n"
     ]
    }
   ],
   "source": [
    "del light"
   ]
  },
  {
   "cell_type": "markdown",
   "id": "collaborative-recycling",
   "metadata": {},
   "source": [
    "# Pyqt app"
   ]
  },
  {
   "cell_type": "code",
   "execution_count": null,
   "id": "accurate-induction",
   "metadata": {},
   "outputs": [],
   "source": [
    "import PySchott"
   ]
  },
  {
   "cell_type": "code",
   "execution_count": 2,
   "id": "brown-stanley",
   "metadata": {
    "ExecuteTime": {
     "end_time": "2021-05-20T13:31:47.915768Z",
     "start_time": "2021-05-20T13:30:41.874840Z"
    }
   },
   "outputs": [
    {
     "name": "stdout",
     "output_type": "stream",
     "text": [
      "[<serial.tools.list_ports_common.ListPortInfo object at 0x0000029EF2347348>, <serial.tools.list_ports_common.ListPortInfo object at 0x0000029EF2347488>, <serial.tools.list_ports_common.ListPortInfo object at 0x0000029EF2347508>, <serial.tools.list_ports_common.ListPortInfo object at 0x0000029EF2347608>]\n",
      "Périphérique série USB (COM15)\n",
      "product SCHOTT Microscopy Light Source (MC-LS)\n",
      "connected\n",
      "0.1\n",
      "1.0\n",
      "0.1\n",
      "0.1\n",
      "0.5\n",
      "serial connection off\n"
     ]
    }
   ],
   "source": [
    "PySchott.LightControl()"
   ]
  },
  {
   "cell_type": "code",
   "execution_count": null,
   "id": "restricted-success",
   "metadata": {},
   "outputs": [],
   "source": []
  }
 ],
 "metadata": {
  "hide_input": false,
  "kernelspec": {
   "display_name": "Python 3",
   "language": "python",
   "name": "python3"
  },
  "language_info": {
   "codemirror_mode": {
    "name": "ipython",
    "version": 3
   },
   "file_extension": ".py",
   "mimetype": "text/x-python",
   "name": "python",
   "nbconvert_exporter": "python",
   "pygments_lexer": "ipython3",
   "version": "3.7.10"
  },
  "latex_envs": {
   "LaTeX_envs_menu_present": true,
   "autoclose": false,
   "autocomplete": true,
   "bibliofile": "biblio.bib",
   "cite_by": "apalike",
   "current_citInitial": 1,
   "eqLabelWithNumbers": true,
   "eqNumInitial": 1,
   "hotkeys": {
    "equation": "Ctrl-E",
    "itemize": "Ctrl-I"
   },
   "labels_anchors": false,
   "latex_user_defs": false,
   "report_style_numbering": false,
   "user_envs_cfg": false
  },
  "toc": {
   "base_numbering": 1,
   "nav_menu": {},
   "number_sections": true,
   "sideBar": true,
   "skip_h1_title": false,
   "title_cell": "Table of Contents",
   "title_sidebar": "Contents",
   "toc_cell": false,
   "toc_position": {},
   "toc_section_display": true,
   "toc_window_display": false
  }
 },
 "nbformat": 4,
 "nbformat_minor": 5
}
